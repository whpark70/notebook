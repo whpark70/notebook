{
 "cells": [
  {
   "cell_type": "code",
   "execution_count": null,
   "metadata": {},
   "outputs": [],
   "source": [
    "from PyQt5.QtWidgets import QApplication, QWidget, QSizePolicy, QVBoxLayout, QMainWindow\n",
    "from matplotlib.backends.backend_qt5agg import FigureCanvasQTAgg as FigureCanvas\n",
    "from matplotlib.figure import Figure\n",
    "import matplotlib as mpl\n",
    "import numpy as np\n",
    "import sys\n",
    "\n",
    "mpl.use('Qt5Agg')\n",
    "%matplotlib qt5\n",
    "\n",
    "class App(QMainWindow):\n",
    "    \n",
    "    def __init__(self):\n",
    "        super().__init__()\n",
    "        self.left = 10\n",
    "        self.top = 10\n",
    "        self.titile = \"multi-plotting in Canvas\"\n",
    "        self.width = 640\n",
    "        self.height = 400\n",
    "        self.initUI()\n",
    "        \n",
    "    def initUI(self):\n",
    "        self.setWindowTitle(self.title)\n",
    "        self.setGeometry(self.left, self.top, self.width, self.height)\n",
    "        \n",
    "        m = mplCanvas()\n",
    "        m.move(0,0)\n",
    "        \n",
    "        self.show()\n",
    "\n",
    "class mplCanvas(FigureCanvas):\n",
    "    # if_num: number of interface \n",
    "    def __init__(self, if_num):\n",
    "        self.fig = Figure()\n",
    "        self.if_num = if_num\n",
    "        self.if_axes = {}\n",
    "        if if_num != 0:\n",
    "            for row in range(1, if_num +1):\n",
    "                ax = self.fig.add_subplot(row,1,row)\n",
    "                self.if_axes[row] = ax\n",
    "        \n",
    "        super().__init__(self.fig)\n",
    "        self.setSizePolicy(QSizePolicy.Expanding, QSizePolicy.Expanding)\n",
    "        self.updateGeometry()\n",
    "        self.plot()\n",
    "        \n",
    "    def plot(self, x, y):\n",
    "        for ax in self.if_axes.values():\n",
    "            ax.plot()\n",
    "        self.draw()\n",
    "\n",
    "app = QApplication(sys.argv)\n",
    "ex = App()\n",
    "sys.exit(app.exec_())\n",
    "\n",
    "\n"
   ]
  },
  {
   "cell_type": "code",
   "execution_count": null,
   "metadata": {},
   "outputs": [],
   "source": []
  }
 ],
 "metadata": {
  "kernelspec": {
   "display_name": "Python 3",
   "language": "python",
   "name": "python3"
  },
  "language_info": {
   "codemirror_mode": {
    "name": "ipython",
    "version": 3
   },
   "file_extension": ".py",
   "mimetype": "text/x-python",
   "name": "python",
   "nbconvert_exporter": "python",
   "pygments_lexer": "ipython3",
   "version": "3.6.3"
  }
 },
 "nbformat": 4,
 "nbformat_minor": 2
}
